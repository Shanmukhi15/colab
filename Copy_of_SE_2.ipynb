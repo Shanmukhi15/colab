{
  "nbformat": 4,
  "nbformat_minor": 0,
  "metadata": {
    "colab": {
      "provenance": []
    },
    "kernelspec": {
      "name": "python3",
      "display_name": "Python 3"
    },
    "language_info": {
      "name": "python"
    }
  },
  "cells": [
    {
      "cell_type": "code",
      "source": [
        "# Hardcoded Variables\n",
        "a = 10\n",
        "b = 5\n",
        "result = a - b\n",
        "print(f\"Hardcoded Subtraction Result: {result}\")\n"
      ],
      "metadata": {
        "colab": {
          "base_uri": "https://localhost:8080/"
        },
        "id": "PVKWuKiimOYM",
        "outputId": "7494729b-83ff-4e53-f275-469650f2bdff"
      },
      "execution_count": null,
      "outputs": [
        {
          "output_type": "stream",
          "name": "stdout",
          "text": [
            "Hardcoded Subtraction Result: 5\n"
          ]
        }
      ]
    },
    {
      "cell_type": "code",
      "source": [
        "# Keyboard Input: Taking user input\n",
        "try:\n",
        "    a = int(input(\"Enter the first number: \"))\n",
        "    b = int(input(\"Enter the second number: \"))\n",
        "    result = a - b\n",
        "    print(f\"Keyboard Input Subtraction Result: {result}\")\n",
        "except ValueError:\n",
        "    print(\"Invalid input. Please enter integers.\")\n"
      ],
      "metadata": {
        "colab": {
          "base_uri": "https://localhost:8080/"
        },
        "id": "4COHZEjAscP7",
        "outputId": "825a69fc-79dd-4476-fa3c-a1f3930cbc73"
      },
      "execution_count": null,
      "outputs": [
        {
          "output_type": "stream",
          "name": "stdout",
          "text": [
            "Enter the first number: 7\n",
            "Enter the second number: 5\n",
            "Keyboard Input Subtraction Result: 2\n"
          ]
        }
      ]
    },
    {
      "cell_type": "code",
      "source": [
        "# Create 'input_single.txt' with a single integer\n",
        "with open('input_single.txt', 'w') as file:\n",
        "    file.write('15')  # You can change 15 to any integer you want\n"
      ],
      "metadata": {
        "id": "aBsNkiwivovq"
      },
      "execution_count": null,
      "outputs": []
    },
    {
      "cell_type": "code",
      "source": [
        "# Read the content of 'input_single.txt' to verify\n",
        "with open('input_single.txt', 'r') as file:\n",
        "    content = file.read()\n",
        "\n",
        "print(f\"Content of 'input_single.txt': {content}\")\n"
      ],
      "metadata": {
        "colab": {
          "base_uri": "https://localhost:8080/"
        },
        "id": "HXxIYgWVvv0J",
        "outputId": "40f35132-8b67-46c9-d4fa-c00242ad0b28"
      },
      "execution_count": null,
      "outputs": [
        {
          "output_type": "stream",
          "name": "stdout",
          "text": [
            "Content of 'input_single.txt': 15\n"
          ]
        }
      ]
    },
    {
      "cell_type": "code",
      "source": [
        "# Read the single integer from the file\n",
        "try:\n",
        "    with open('input_single.txt', 'r') as file:\n",
        "        a = int(file.read().strip())  # Reading single integer from the file\n",
        "    b = 5  # Hardcoded second number\n",
        "    result = a - b\n",
        "    print(f\"File Input (Single) Subtraction Result: {result}\")\n",
        "except FileNotFoundError:\n",
        "    print(\"File 'input_single.txt' not found.\")\n",
        "except ValueError:\n",
        "    print(\"Invalid number in the file.\")\n"
      ],
      "metadata": {
        "colab": {
          "base_uri": "https://localhost:8080/"
        },
        "id": "jzj23fyiv1Vh",
        "outputId": "312d7a87-8c1a-4816-ed91-64d3e9355e7e"
      },
      "execution_count": null,
      "outputs": [
        {
          "output_type": "stream",
          "name": "stdout",
          "text": [
            "File Input (Single) Subtraction Result: 10\n"
          ]
        }
      ]
    },
    {
      "cell_type": "code",
      "source": [
        "# Create the file and add some numbers\n",
        "with open('input_multiple.txt', 'w') as file:\n",
        "    file.write('10\\n')\n",
        "    file.write('25\\n')\n",
        "    file.write('5\\n')\n",
        "\n",
        "# Reading integers from a file (separate lines)\n",
        "with open('input_multiple.txt', 'r') as file:\n",
        "    numbers = [int(line.strip()) for line in file.readlines()]\n",
        "\n",
        "print(\"Numbers from file:\", numbers)\n",
        "\n",
        "# Example operation: Subtracting 5 from each number\n",
        "result = [num - 5 for num in numbers]\n",
        "print(\"Subtracted values:\", result)"
      ],
      "metadata": {
        "colab": {
          "base_uri": "https://localhost:8080/"
        },
        "id": "LTSEGU8By0p4",
        "outputId": "19f13756-19dd-4de1-da04-16a17efdd0aa"
      },
      "execution_count": null,
      "outputs": [
        {
          "output_type": "stream",
          "name": "stdout",
          "text": [
            "Numbers from file: [10, 25, 5]\n",
            "Subtracted values: [5, 20, 0]\n"
          ]
        }
      ]
    },
    {
      "cell_type": "code",
      "source": [
        "# Reading integers from a file (separate lines)\n",
        "with open('input_multiple.txt', 'r') as file:\n",
        "    numbers = [int(line.strip()) for line in file.readlines()]\n",
        "\n",
        "print(\"Numbers from file:\", numbers)\n",
        "\n",
        "# Example operation: Subtracting 5 from each number\n",
        "result = [num - 5 for num in numbers]\n",
        "print(\"Subtracted values:\", result)\n"
      ],
      "metadata": {
        "colab": {
          "base_uri": "https://localhost:8080/"
        },
        "id": "GOb_swRaw2bR",
        "outputId": "146cdcd7-ae63-427e-f326-732833061ccd"
      },
      "execution_count": null,
      "outputs": [
        {
          "output_type": "stream",
          "name": "stdout",
          "text": [
            "Numbers from file: [10, 25, 5]\n",
            "Subtracted values: [5, 20, 0]\n"
          ]
        }
      ]
    },
    {
      "cell_type": "code",
      "source": [
        "# Read From File (Multiple Inputs)\n",
        "try:\n",
        "    with open(\"input_multiple.txt\", \"r\") as file:\n",
        "        numbers = [int(line.strip()) for line in file.readlines()]\n",
        "\n",
        "    results = []\n",
        "    for num in numbers:\n",
        "        result = num - 5  # Subtracting 5 from each number\n",
        "        results.append(result)\n",
        "\n",
        "    print(\"Multiple Inputs Subtraction Results:\")\n",
        "    for i, result in enumerate(results):\n",
        "        print(f\"Result {i+1}: {result}\")\n",
        "\n",
        "except FileNotFoundError:\n",
        "    print(\"File 'input_multiple.txt' not found.\")\n",
        "except ValueError:\n",
        "    print(\"Invalid numbers in the file.\")\n"
      ],
      "metadata": {
        "colab": {
          "base_uri": "https://localhost:8080/"
        },
        "id": "IJkNJygazJAm",
        "outputId": "34f16e9a-7035-425f-bb1b-ff833e26de38"
      },
      "execution_count": null,
      "outputs": [
        {
          "output_type": "stream",
          "name": "stdout",
          "text": [
            "Multiple Inputs Subtraction Results:\n",
            "Result 1: 5\n",
            "Result 2: 20\n",
            "Result 3: 0\n"
          ]
        }
      ]
    },
    {
      "cell_type": "code",
      "source": [
        "from google.colab import drive\n",
        "drive.mount('/content/drive')\n",
        "\n",
        "# Create a file with the first version\n",
        "with open('/content/drive/My Drive/colab_version_1.py', 'w') as f:\n",
        "    f.write('''# Hardcoded Variables\n",
        "a = 10\n",
        "b = 5\n",
        "result = a - b\n",
        "print(f\"Hardcoded Subtraction Result: {result}\")''')\n",
        "\n",
        "# Version 2: Keyboard Input\n",
        "with open('/content/drive/My Drive/colab_version_2.py', 'w') as f:\n",
        "    f.write('''a = int(input(\"Enter the first number: \"))\n",
        "b = int(input(\"Enter the second number: \"))\n",
        "result = a - b\n",
        "print(f\"Keyboard Input Subtraction Result: {result}\")''')\n",
        "\n",
        "# Similarly, you can save version 3 and 4 for file reading tasks as well.\n"
      ],
      "metadata": {
        "colab": {
          "base_uri": "https://localhost:8080/"
        },
        "id": "AgV9rewxzYrE",
        "outputId": "d34e4d43-cc76-43e2-aa84-0c69af47ee7f"
      },
      "execution_count": null,
      "outputs": [
        {
          "output_type": "stream",
          "name": "stdout",
          "text": [
            "Mounted at /content/drive\n"
          ]
        }
      ]
    },
    {
      "cell_type": "code",
      "source": [
        "# Step 1: Hardcoding Variables\n",
        "a = 10\n",
        "b = 5\n",
        "result = a - b\n",
        "print(f\"Hardcoded Subtraction Result: {result}\")\n",
        "\n",
        "# Step 2: Keyboard Input\n",
        "try:\n",
        "    a = int(input(\"Enter the first number: \"))\n",
        "    b = int(input(\"Enter the second number: \"))\n",
        "    result = a - b\n",
        "    print(f\"Keyboard Input Subtraction Result: {result}\")\n",
        "except ValueError:\n",
        "    print(\"Invalid input. Please enter integers.\")\n",
        "\n",
        "# Step 3: Read From File (Single Input)\n",
        "try:\n",
        "    with open(\"input_single.txt\", \"r\") as file:\n",
        "        a = int(file.read().strip())\n",
        "    b = 5\n",
        "    result = a - b\n",
        "    print(f\"File Input (Single) Subtraction Result: {result}\")\n",
        "except FileNotFoundError:\n",
        "    print(\"File 'input_single.txt' not found.\")\n",
        "except ValueError:\n",
        "    print(\"Invalid number in the file.\")\n",
        "\n",
        "# Step 4: Read From File (Multiple Inputs)\n",
        "try:\n",
        "    with open(\"input_multiple.txt\", \"r\") as file:\n",
        "        numbers = [int(line.strip()) for line in file.readlines()]\n",
        "\n",
        "    results = []\n",
        "    for num in numbers:\n",
        "        result = num - 5\n",
        "        results.append(result)\n",
        "\n",
        "    print(\"Multiple Inputs Subtraction Results:\")\n",
        "    for i, result in enumerate(results):\n",
        "        print(f\"Result {i+1}: {result}\")\n",
        "\n",
        "except FileNotFoundError:\n",
        "    print(\"File 'input_multiple.txt' not found.\")\n",
        "except ValueError:\n",
        "    print(\"Invalid numbers in the file.\")\n"
      ],
      "metadata": {
        "colab": {
          "base_uri": "https://localhost:8080/"
        },
        "id": "9VfwS5EZzyjk",
        "outputId": "3892d2dc-9d24-4edc-f584-2ef225857cf8"
      },
      "execution_count": null,
      "outputs": [
        {
          "output_type": "stream",
          "name": "stdout",
          "text": [
            "Hardcoded Subtraction Result: 5\n",
            "Enter the first number: 48\n",
            "Enter the second number: 23\n",
            "Keyboard Input Subtraction Result: 25\n",
            "File Input (Single) Subtraction Result: 10\n",
            "Multiple Inputs Subtraction Results:\n",
            "Result 1: 5\n",
            "Result 2: 20\n",
            "Result 3: 0\n"
          ]
        }
      ]
    }
  ]
}